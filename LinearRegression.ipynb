{
  "nbformat": 4,
  "nbformat_minor": 0,
  "metadata": {
    "colab": {
      "provenance": [],
      "authorship_tag": "ABX9TyP0Wp3FsDZwwMIGe6hohJSI",
      "include_colab_link": true
    },
    "kernelspec": {
      "name": "python3",
      "display_name": "Python 3"
    },
    "language_info": {
      "name": "python"
    }
  },
  "cells": [
    {
      "cell_type": "markdown",
      "metadata": {
        "id": "view-in-github",
        "colab_type": "text"
      },
      "source": [
        "<a href=\"https://colab.research.google.com/github/IndraMadika/ML-Mentoring/blob/main/LinearRegression.ipynb\" target=\"_parent\"><img src=\"https://colab.research.google.com/assets/colab-badge.svg\" alt=\"Open In Colab\"/></a>"
      ]
    },
    {
      "cell_type": "code",
      "execution_count": 1,
      "metadata": {
        "colab": {
          "base_uri": "https://localhost:8080/"
        },
        "id": "pyfnC2anTz1Q",
        "outputId": "5e7fdf58-dc7f-40bc-a7bb-8f760068c900"
      },
      "outputs": [
        {
          "output_type": "stream",
          "name": "stdout",
          "text": [
            "Prediksi: [10. 12.]\n"
          ]
        }
      ],
      "source": [
        "from sklearn.linear_model import LinearRegression\n",
        "\n",
        "# Membentuk data training\n",
        "X_train = [[1], [2], [3], [4]]\n",
        "y_train = [2, 4, 6, 8]\n",
        "\n",
        "# Inisialisasi model regresi linier\n",
        "model = LinearRegression()\n",
        "\n",
        "# Melatih model dengan data training\n",
        "model.fit(X_train, y_train)\n",
        "\n",
        "# Data baru untuk prediksi\n",
        "X_new = [[5], [6]]\n",
        "\n",
        "# Melakukan prediksi\n",
        "y_pred = model.predict(X_new)\n",
        "\n",
        "print(\"Prediksi:\", y_pred)\n"
      ]
    },
    {
      "cell_type": "code",
      "source": [],
      "metadata": {
        "id": "k9npscFhT2XW"
      },
      "execution_count": null,
      "outputs": []
    }
  ]
}