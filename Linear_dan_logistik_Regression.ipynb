{
  "nbformat": 4,
  "nbformat_minor": 0,
  "metadata": {
    "colab": {
      "provenance": [],
      "authorship_tag": "ABX9TyNFdmIcVtmmqfkrpbq6QEph",
      "include_colab_link": true
    },
    "kernelspec": {
      "name": "python3",
      "display_name": "Python 3"
    },
    "language_info": {
      "name": "python"
    }
  },
  "cells": [
    {
      "cell_type": "markdown",
      "metadata": {
        "id": "view-in-github",
        "colab_type": "text"
      },
      "source": [
        "<a href=\"https://colab.research.google.com/github/IndraMadika/ML-Mentoring/blob/main/Linear_dan_logistik_Regression.ipynb\" target=\"_parent\"><img src=\"https://colab.research.google.com/assets/colab-badge.svg\" alt=\"Open In Colab\"/></a>"
      ]
    },
    {
      "cell_type": "markdown",
      "source": [
        "Dalam contoh ini, kita menggunakan metode Normal Equation untuk menghitung parameter theta secara langsung. Pertama, kita menambahkan kolom bias ke data latih (X_train dan X_test) dengan menggunakan np.column_stack. Kemudian, kita menghitung parameter theta dengan rumus theta = (X_train.T * X_train)^(-1) * X_train.T * y_train. Akhirnya, kita menggunakan parameter theta untuk memprediksi harga rumah pada data testing (X_test) dengan melakukan perkalian matriks X_test @ theta.\n",
        "\n",
        "Perhatikan bahwa metode Normal Equation ini cocok digunakan jika jumlah fitur (variabel independen) tidak terlalu besar dan data training memiliki matriks desain yang inversibel. Jika Anda memiliki dataset yang lebih kompleks, ada metode lain seperti regresi linier berbasis gradient descent yang bisa digunakan."
      ],
      "metadata": {
        "id": "-TksZ1TUK0gL"
      }
    },
    {
      "cell_type": "code",
      "execution_count": 1,
      "metadata": {
        "colab": {
          "base_uri": "https://localhost:8080/"
        },
        "id": "mfBPh199Kedp",
        "outputId": "e69aea42-2950-4632-d540-3a4e104eb1a8"
      },
      "outputs": [
        {
          "output_type": "stream",
          "name": "stdout",
          "text": [
            "[607887.70049269 763582.88765999 510294.11760435]\n"
          ]
        }
      ],
      "source": [
        "import numpy as np\n",
        "import pandas as pd\n",
        "\n",
        "# Data Training\n",
        "X_train = np.array([[1000, 3, 1990],\n",
        "                    [1500, 4, 1980],\n",
        "                    [1200, 3, 2005],\n",
        "                    [1800, 4, 1995],\n",
        "                    [900, 2, 2010]])\n",
        "y_train = np.array([500000, 700000, 600000, 800000, 450000])\n",
        "\n",
        "# Menambahkan kolom bias ke X_train\n",
        "X_train = np.column_stack((np.ones(len(X_train)), X_train))\n",
        "\n",
        "# Menghitung parameter theta dengan metode Normal Equation\n",
        "theta = np.linalg.inv(X_train.T @ X_train) @ X_train.T @ y_train\n",
        "\n",
        "# Data Testing\n",
        "X_test = np.array([[1300, 3, 2000],\n",
        "                   [1600, 4, 1998],\n",
        "                   [1100, 2, 2015]])\n",
        "\n",
        "# Menambahkan kolom bias ke X_test\n",
        "X_test = np.column_stack((np.ones(len(X_test)), X_test))\n",
        "\n",
        "# Melakukan prediksi harga rumah\n",
        "y_pred = X_test @ theta\n",
        "\n",
        "# Menampilkan hasil prediksi\n",
        "print(y_pred)\n"
      ]
    },
    {
      "cell_type": "code",
      "source": [],
      "metadata": {
        "id": "tDtNXaapKg1N"
      },
      "execution_count": null,
      "outputs": []
    },
    {
      "cell_type": "code",
      "source": [
        "import numpy as np\n",
        "from sklearn.linear_model import LinearRegression\n",
        "\n",
        "# Data Training\n",
        "X_train = np.array([[1000, 3, 1990],\n",
        "                    [1500, 4, 1980],\n",
        "                    [1200, 3, 2005],\n",
        "                    [1800, 4, 1995],\n",
        "                    [900, 2, 2010]])\n",
        "y_train = np.array([500000, 700000, 600000, 800000, 450000])\n",
        "\n",
        "# Inisialisasi model Regresi Linear\n",
        "model = LinearRegression()\n",
        "\n",
        "# Melatih model dengan data training\n",
        "model.fit(X_train, y_train)\n",
        "\n",
        "# Data Testing\n",
        "X_test = np.array([[1300, 3, 2000],\n",
        "                   [1600, 4, 1998],\n",
        "                   [1100, 2, 2015]])\n",
        "\n",
        "# Melakukan prediksi harga rumah\n",
        "y_pred = model.predict(X_test)\n",
        "\n",
        "# Menampilkan hasil prediksi\n",
        "print(y_pred)\n"
      ],
      "metadata": {
        "colab": {
          "base_uri": "https://localhost:8080/"
        },
        "id": "epshgFDJK1Q2",
        "outputId": "6a4aff1f-4c6c-4b48-d31d-d24cab0b4136"
      },
      "execution_count": 2,
      "outputs": [
        {
          "output_type": "stream",
          "name": "stdout",
          "text": [
            "[607887.70053476 763582.88770054 510294.11764706]\n"
          ]
        }
      ]
    },
    {
      "cell_type": "markdown",
      "source": [
        "Dalam contoh diatas, kita menggunakan kelas LinearRegression dari modul sklearn.linear_model untuk membuat model regresi linier. Setelah menginisialisasi model, kita melatihnya dengan memanggil metode fit() dan menyediakan data training (X_train dan y_train) sebagai argumen. Setelah model dilatih, kita dapat menggunakan metode predict() untuk melakukan prediksi pada data testing (X_test) dan mendapatkan hasil prediksinya dalam variabel y_pred."
      ],
      "metadata": {
        "id": "k6yWsZJVLbmy"
      }
    },
    {
      "cell_type": "code",
      "source": [
        "import numpy as np\n",
        "from sklearn.linear_model import LogisticRegression\n",
        "\n",
        "# Data Training\n",
        "X_train = np.array([[1, 2],\n",
        "                    [2, 3],\n",
        "                    [3, 4],\n",
        "                    [4, 5]])\n",
        "y_train = np.array([0, 0, 1, 1])\n",
        "\n",
        "# Inisialisasi model Regresi Logistik\n",
        "model = LogisticRegression()\n",
        "\n",
        "# Melatih model dengan data training\n",
        "model.fit(X_train, y_train)\n",
        "\n",
        "# Data Testing\n",
        "X_test = np.array([[1, 2],\n",
        "                   [5, 6]])\n",
        "\n",
        "# Melakukan prediksi kelas\n",
        "y_pred = model.predict(X_test)\n",
        "\n",
        "# Melakukan prediksi probabilitas kelas\n",
        "y_pred_proba = model.predict_proba(X_test)\n",
        "\n",
        "# Menampilkan hasil prediksi\n",
        "print(\"Prediksi Kelas:\", y_pred)\n",
        "print(\"Prediksi Probabilitas Kelas:\", y_pred_proba)\n"
      ],
      "metadata": {
        "colab": {
          "base_uri": "https://localhost:8080/"
        },
        "id": "Go4mudmHLT3a",
        "outputId": "41d8e4eb-da4f-4581-f4f6-8190dea1b853"
      },
      "execution_count": 3,
      "outputs": [
        {
          "output_type": "stream",
          "name": "stdout",
          "text": [
            "Prediksi Kelas: [0 1]\n",
            "Prediksi Probabilitas Kelas: [[0.88514554 0.11485446]\n",
            " [0.03218878 0.96781122]]\n"
          ]
        }
      ]
    },
    {
      "cell_type": "markdown",
      "source": [
        "Dalam contoh ini, kita menggunakan kelas LogisticRegression dari modul sklearn.linear_model untuk membuat model regresi logistik. Setelah menginisialisasi model, kita melatihnya dengan memanggil metode fit() dan menyediakan data training (X_train dan y_train) sebagai argumen. Setelah model dilatih, kita dapat menggunakan metode predict() untuk melakukan prediksi kelas pada data testing (X_test) dan mendapatkan hasil prediksinya dalam variabel y_pred. Kita juga dapat menggunakan metode predict_proba() untuk mendapatkan prediksi probabilitas kelas."
      ],
      "metadata": {
        "id": "PmmpJfPZL_yU"
      }
    },
    {
      "cell_type": "code",
      "source": [],
      "metadata": {
        "id": "2oqNN79DL5K-"
      },
      "execution_count": null,
      "outputs": []
    }
  ]
}